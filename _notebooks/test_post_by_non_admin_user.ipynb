{
 "cells": [
  {
   "cell_type": "markdown",
   "source": [
    "### 관리자 아닌 기여자가 포스팅 할 수 있는지 확인"
   ],
   "metadata": {}
  }
 ],
 "metadata": {
  "orig_nbformat": 4,
  "language_info": {
   "name": "python"
  }
 },
 "nbformat": 4,
 "nbformat_minor": 2
}